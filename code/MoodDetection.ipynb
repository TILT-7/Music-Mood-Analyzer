{
 "cells": [
  {
   "cell_type": "code",
   "execution_count": 1,
   "metadata": {},
   "outputs": [
    {
     "data": {
      "text/html": [
       "<div>\n",
       "<style scoped>\n",
       "    .dataframe tbody tr th:only-of-type {\n",
       "        vertical-align: middle;\n",
       "    }\n",
       "\n",
       "    .dataframe tbody tr th {\n",
       "        vertical-align: top;\n",
       "    }\n",
       "\n",
       "    .dataframe thead th {\n",
       "        text-align: right;\n",
       "    }\n",
       "</style>\n",
       "<table border=\"1\" class=\"dataframe\">\n",
       "  <thead>\n",
       "    <tr style=\"text-align: right;\">\n",
       "      <th></th>\n",
       "      <th>file</th>\n",
       "      <th>artist</th>\n",
       "      <th>title</th>\n",
       "      <th>lyrics</th>\n",
       "      <th>year</th>\n",
       "      <th>mood</th>\n",
       "    </tr>\n",
       "  </thead>\n",
       "  <tbody>\n",
       "    <tr>\n",
       "      <th>0</th>\n",
       "      <td>TRBGASN128F427BF8F.h5</td>\n",
       "      <td>Jennifer Lopez</td>\n",
       "      <td>I'm Glad</td>\n",
       "      <td>Baby, when I think about...\\r\\nThe day that we...</td>\n",
       "      <td>2002</td>\n",
       "      <td>1</td>\n",
       "    </tr>\n",
       "    <tr>\n",
       "      <th>1</th>\n",
       "      <td>TRBGEUJ128F42B06B8.h5</td>\n",
       "      <td>Sandi Thom</td>\n",
       "      <td>I Wish I Was A Punk Rocker (With Flowers In My...</td>\n",
       "      <td>Oh, I wish I was a punk rocker with flowers in...</td>\n",
       "      <td>2006</td>\n",
       "      <td>1</td>\n",
       "    </tr>\n",
       "    <tr>\n",
       "      <th>2</th>\n",
       "      <td>TRBGNCL128F428F56F.h5</td>\n",
       "      <td>Gwen Stefani</td>\n",
       "      <td>4 In The Morning</td>\n",
       "      <td>Waking up to find another day\\r\\nThe moon got ...</td>\n",
       "      <td>2006</td>\n",
       "      <td>0</td>\n",
       "    </tr>\n",
       "    <tr>\n",
       "      <th>3</th>\n",
       "      <td>TRBGRIP128F147FCA6.h5</td>\n",
       "      <td>Phil Collins</td>\n",
       "      <td>Everyday</td>\n",
       "      <td>I got lost, couldn't find my way\\r\\nAnd I gues...</td>\n",
       "      <td>1993</td>\n",
       "      <td>0</td>\n",
       "    </tr>\n",
       "    <tr>\n",
       "      <th>4</th>\n",
       "      <td>TRBGXQP128F4290B22.h5</td>\n",
       "      <td>Roger Sanchez</td>\n",
       "      <td>Lost</td>\n",
       "      <td>I saw a picture yesterday,\\r\\nYou know the one...</td>\n",
       "      <td>2006</td>\n",
       "      <td>1</td>\n",
       "    </tr>\n",
       "  </tbody>\n",
       "</table>\n",
       "</div>"
      ],
      "text/plain": [
       "                    file          artist  \\\n",
       "0  TRBGASN128F427BF8F.h5  Jennifer Lopez   \n",
       "1  TRBGEUJ128F42B06B8.h5      Sandi Thom   \n",
       "2  TRBGNCL128F428F56F.h5    Gwen Stefani   \n",
       "3  TRBGRIP128F147FCA6.h5    Phil Collins   \n",
       "4  TRBGXQP128F4290B22.h5   Roger Sanchez   \n",
       "\n",
       "                                               title  \\\n",
       "0                                           I'm Glad   \n",
       "1  I Wish I Was A Punk Rocker (With Flowers In My...   \n",
       "2                                   4 In The Morning   \n",
       "3                                           Everyday   \n",
       "4                                               Lost   \n",
       "\n",
       "                                              lyrics  year  mood  \n",
       "0  Baby, when I think about...\\r\\nThe day that we...  2002     1  \n",
       "1  Oh, I wish I was a punk rocker with flowers in...  2006     1  \n",
       "2  Waking up to find another day\\r\\nThe moon got ...  2006     0  \n",
       "3  I got lost, couldn't find my way\\r\\nAnd I gues...  1993     0  \n",
       "4  I saw a picture yesterday,\\r\\nYou know the one...  2006     1  "
      ]
     },
     "execution_count": 1,
     "metadata": {},
     "output_type": "execute_result"
    }
   ],
   "source": [
    "import pandas as pd\n",
    "import matplotlib.pyplot as plt\n",
    "import seaborn as sns\n",
    "\n",
    "df = pd.read_csv('lyrics_166.csv')\n",
    "\n",
    "df.head()"
   ]
  },
  {
   "cell_type": "code",
   "execution_count": 2,
   "metadata": {},
   "outputs": [],
   "source": [
    "data_X = df['lyrics'].values\n",
    "data_Y = df['mood'].values"
   ]
  },
  {
   "cell_type": "markdown",
   "metadata": {},
   "source": [
    "### remove lyrics puncuation using proter stemmer"
   ]
  },
  {
   "cell_type": "code",
   "execution_count": 3,
   "metadata": {},
   "outputs": [],
   "source": [
    "# Porter Stemmer\n",
    "\n",
    "import nltk\n",
    "import string\n",
    "import re\n",
    "\n",
    "porter_stemmer = nltk.stem.porter.PorterStemmer()\n",
    "def porter_tokenizer(text, stemmer=porter_stemmer):\n",
    "    lower_txt = text.lower()\n",
    "    tokens = nltk.wordpunct_tokenize(lower_txt)\n",
    "    stems = [porter_stemmer.stem(t) for t in tokens]\n",
    "    no_punct = [s for s in stems if re.match('^[a-zA-Z]+$', s) is not None]\n",
    "    return no_punct"
   ]
  },
  {
   "cell_type": "markdown",
   "metadata": {},
   "source": [
    "### build TfidfVectorizer "
   ]
  },
  {
   "cell_type": "code",
   "execution_count": 4,
   "metadata": {},
   "outputs": [],
   "source": [
    "\n",
    "from sklearn.feature_extraction.text import TfidfVectorizer\n",
    "\n",
    "tfidf = TfidfVectorizer(\n",
    "            encoding='utf-8',\n",
    "            decode_error='replace',\n",
    "            strip_accents='unicode',\n",
    "            analyzer='word',\n",
    "            binary=False,\n",
    "            stop_words=\"english\",\n",
    "            tokenizer=porter_tokenizer\n",
    "    )"
   ]
  },
  {
   "cell_type": "markdown",
   "metadata": {},
   "source": [
    "### build training data and test data"
   ]
  },
  {
   "cell_type": "code",
   "execution_count": 11,
   "metadata": {},
   "outputs": [
    {
     "name": "stderr",
     "output_type": "stream",
     "text": [
      "C:\\Users\\hp\\Anaconda3\\lib\\site-packages\\sklearn\\cross_validation.py:41: DeprecationWarning: This module was deprecated in version 0.18 in favor of the model_selection module into which all the refactored classes and functions are moved. Also note that the interface of the new CV iterators are different from that of this module. This module will be removed in 0.20.\n",
      "  \"This module will be removed in 0.20.\", DeprecationWarning)\n"
     ]
    }
   ],
   "source": [
    "data_X = tfidf.fit_transform(data_X)\n",
    "from sklearn.cross_validation import train_test_split\n",
    "X_train, X_test, y_train, y_test = train_test_split(data_X, data_Y, test_size=0.4, random_state=0)\n",
    "\n",
    "# print('Vocabulary size: %s' %len(tfidf.get_feature_names()))"
   ]
  },
  {
   "cell_type": "code",
   "execution_count": 12,
   "metadata": {},
   "outputs": [],
   "source": [
    "#train_vectors = tfidf.fit_transform(X_train) \n",
    "#test_vectors = tfidf.fit_transform(X_test) "
   ]
  },
  {
   "cell_type": "code",
   "execution_count": 13,
   "metadata": {},
   "outputs": [],
   "source": [
    "#train_vectors.shape"
   ]
  },
  {
   "cell_type": "code",
   "execution_count": 14,
   "metadata": {},
   "outputs": [],
   "source": [
    "#test_vectors.shape"
   ]
  },
  {
   "cell_type": "markdown",
   "metadata": {},
   "source": [
    "### Build SVM model"
   ]
  },
  {
   "cell_type": "code",
   "execution_count": 15,
   "metadata": {},
   "outputs": [],
   "source": [
    "from sklearn.svm import SVC\n",
    "import sklearn.metrics as metrics"
   ]
  },
  {
   "cell_type": "code",
   "execution_count": 16,
   "metadata": {},
   "outputs": [],
   "source": [
    "classifier_rbf = SVC()\n",
    "classifier_rbf.fit(X_train, y_train)\n",
    "prediction_rbf = classifier_rbf.predict(X_test)"
   ]
  },
  {
   "cell_type": "code",
   "execution_count": 17,
   "metadata": {},
   "outputs": [],
   "source": [
    "#define a prediction result report\n",
    "from sklearn.metrics import classification_report\n",
    "def prediction_evaluation(model_name,model,test_X,test_Y):\n",
    "    y_pred = model.predict(test_X)\n",
    "    cm = metrics.confusion_matrix(test_Y, y_pred)\n",
    "    plt.figure(figsize=(5,5))\n",
    "    # resulting confusion matrix\n",
    "    sns.heatmap(cm, annot=True, fmt=\"d\", xticklabels=[\"sad\",\"happy\"], yticklabels=[\"sad\",\"happy\"])\n",
    "    \n",
    "    # classificatioon reprot\n",
    "    print(classification_report(test_Y, y_pred, \\\n",
    "                            target_names = [\"sad\",\"happy\"]))\n",
    "    # accuracy reprot\n",
    "    print(\"#### {0} accuracy = {1:5.1f}%\".format(model_name,100.0 * model.score(test_X, test_Y)))\n",
    "    \n",
    "    plt.show()"
   ]
  },
  {
   "cell_type": "code",
   "execution_count": 18,
   "metadata": {},
   "outputs": [
    {
     "name": "stdout",
     "output_type": "stream",
     "text": [
      "             precision    recall  f1-score   support\n",
      "\n",
      "        sad       0.00      0.00      0.00         5\n",
      "      happy       0.29      1.00      0.44         2\n",
      "\n",
      "avg / total       0.08      0.29      0.13         7\n",
      "\n",
      "#### SVM accuracy =  28.6%\n"
     ]
    },
    {
     "name": "stderr",
     "output_type": "stream",
     "text": [
      "C:\\Users\\hp\\Anaconda3\\lib\\site-packages\\sklearn\\metrics\\classification.py:1135: UndefinedMetricWarning: Precision and F-score are ill-defined and being set to 0.0 in labels with no predicted samples.\n",
      "  'precision', 'predicted', average, warn_for)\n"
     ]
    },
    {
     "data": {
      "image/png": "[encoded data removed]",
      "text/plain": [
       "<matplotlib.figure.Figure at 0x232e570da20>"
      ]
     },
     "metadata": {},
     "output_type": "display_data"
    }
   ],
   "source": [
    "prediction_evaluation(\"SVM\",classifier_rbf,X_test,y_test)"
   ]
  },
  {
   "cell_type": "code",
   "execution_count": 19,
   "metadata": {},
   "outputs": [
    {
     "data": {
      "text/plain": [
       "0.2857142857142857"
      ]
     },
     "execution_count": 19,
     "metadata": {},
     "output_type": "execute_result"
    }
   ],
   "source": [
    "len(y_test[y_test==1])/(len(y_test))"
   ]
  },
  {
   "cell_type": "markdown",
   "metadata": {},
   "source": [
    "### Build Naive Bayes Model"
   ]
  },
  {
   "cell_type": "code",
   "execution_count": 20,
   "metadata": {},
   "outputs": [
    {
     "data": {
      "text/plain": [
       "MultinomialNB(alpha=1.0, class_prior=None, fit_prior=True)"
      ]
     },
     "execution_count": 20,
     "metadata": {},
     "output_type": "execute_result"
    }
   ],
   "source": [
    "from sklearn.naive_bayes import MultinomialNB\n",
    "clf_NB = MultinomialNB()\n",
    "clf_NB.fit(X_train, y_train)"
   ]
  },
  {
   "cell_type": "code",
   "execution_count": 21,
   "metadata": {},
   "outputs": [
    {
     "name": "stdout",
     "output_type": "stream",
     "text": [
      "             precision    recall  f1-score   support\n",
      "\n",
      "        sad       0.00      0.00      0.00         5\n",
      "      happy       0.29      1.00      0.44         2\n",
      "\n",
      "avg / total       0.08      0.29      0.13         7\n",
      "\n",
      "#### MultinomialNB accuracy =  28.6%\n"
     ]
    },
    {
     "name": "stderr",
     "output_type": "stream",
     "text": [
      "C:\\Users\\hp\\Anaconda3\\lib\\site-packages\\sklearn\\metrics\\classification.py:1135: UndefinedMetricWarning: Precision and F-score are ill-defined and being set to 0.0 in labels with no predicted samples.\n",
      "  'precision', 'predicted', average, warn_for)\n"
     ]
    },
    {
     "data": {
      "image/png": "[encoded data removed]",
      "text/plain": [
       "<matplotlib.figure.Figure at 0x232e5aab400>"
      ]
     },
     "metadata": {},
     "output_type": "display_data"
    }
   ],
   "source": [
    "prediction_evaluation(\"MultinomialNB\",clf_NB,X_test,y_test)"
   ]
  },
  {
   "cell_type": "markdown",
   "metadata": {
    "collapsed": true
   },
   "source": [
    "## key words chang through time"
   ]
  },
  {
   "cell_type": "code",
   "execution_count": 22,
   "metadata": {},
   "outputs": [
    {
     "data": {
      "text/plain": [
       "{1991, 1993, 2000, 2001, 2002, 2004, 2005, 2006, 2008}"
      ]
     },
     "execution_count": 22,
     "metadata": {},
     "output_type": "execute_result"
    }
   ],
   "source": [
    "set(df[\"year\"])"
   ]
  },
  {
   "cell_type": "code",
   "execution_count": 23,
   "metadata": {},
   "outputs": [],
   "source": [
    "lyrics_50s = \"\"\n",
    "lyrics_60s = \"\"\n",
    "lyrics_70s = \"\"\n",
    "lyrics_80s = \"\"\n",
    "lyrics_90s = \"\"\n",
    "lyrics_00s = \"\"\n",
    "for row_id in df.index:\n",
    "    if df.loc[row_id]['year']>=1950 and df.loc[row_id]['year']<1960:\n",
    "        lyrics_50s = lyrics_50s+\" \"+df.loc[row_id]['lyrics']\n",
    "    if df.loc[row_id]['year']>=1960 and df.loc[row_id]['year']<1970:\n",
    "        lyrics_60s = lyrics_60s+\" \"+df.loc[row_id]['lyrics']\n",
    "    if df.loc[row_id]['year']>=1970 and df.loc[row_id]['year']<1980:\n",
    "        lyrics_70s = lyrics_70s+\" \"+df.loc[row_id]['lyrics']\n",
    "    if df.loc[row_id]['year']>=1980 and df.loc[row_id]['year']<1990:\n",
    "        lyrics_80s = lyrics_80s+\" \"+df.loc[row_id]['lyrics']\n",
    "    if df.loc[row_id]['year']>=1990 and df.loc[row_id]['year']<2000:\n",
    "        lyrics_90s = lyrics_90s+\" \"+df.loc[row_id]['lyrics']\n",
    "    if df.loc[row_id]['year']>=2000 and df.loc[row_id]['year']<2011:\n",
    "        lyrics_00s = lyrics_00s+\" \"+df.loc[row_id]['lyrics']\n",
    "    "
   ]
  },
  {
   "cell_type": "markdown",
   "metadata": {},
   "source": [
    "print(lyrics_50s)"
   ]
  },
  {
   "cell_type": "code",
   "execution_count": 24,
   "metadata": {},
   "outputs": [
    {
     "name": "stdout",
     "output_type": "stream",
     "text": [
      "\n"
     ]
    }
   ],
   "source": [
    "print(lyrics_50s)"
   ]
  },
  {
   "cell_type": "code",
   "execution_count": 25,
   "metadata": {},
   "outputs": [],
   "source": [
    "text_file = open(\"SongLyrics_50.txt\", \"w\")\n",
    "text_file.write(lyrics_50s)\n",
    "text_file.close()"
   ]
  },
  {
   "cell_type": "code",
   "execution_count": 26,
   "metadata": {},
   "outputs": [],
   "source": [
    "text_file = open(\"SongLyrics_60.txt\", \"w\")\n",
    "text_file.write(lyrics_60s)\n",
    "text_file.close()"
   ]
  },
  {
   "cell_type": "code",
   "execution_count": 27,
   "metadata": {},
   "outputs": [],
   "source": [
    "text_file = open(\"SongLyrics_70.txt\", \"w\")\n",
    "text_file.write(lyrics_70s)\n",
    "text_file.close()"
   ]
  },
  {
   "cell_type": "code",
   "execution_count": 28,
   "metadata": {},
   "outputs": [],
   "source": [
    "text_file = open(\"SongLyrics_80.txt\", \"w\")\n",
    "text_file.write(lyrics_80s)\n",
    "text_file.close()"
   ]
  },
  {
   "cell_type": "code",
   "execution_count": 29,
   "metadata": {},
   "outputs": [],
   "source": [
    "text_file = open(\"SongLyrics_90.txt\", \"w\")\n",
    "text_file.write(lyrics_90s)\n",
    "text_file.close()"
   ]
  },
  {
   "cell_type": "code",
   "execution_count": 30,
   "metadata": {},
   "outputs": [],
   "source": [
    "text_file = open(\"SongLyrics_00.txt\", \"w\")\n",
    "text_file.write(lyrics_00s)\n",
    "text_file.close()"
   ]
  },
  {
   "cell_type": "markdown",
   "metadata": {},
   "source": [
    "## Most frequent words from 50s to 00s\n",
    "\n",
    "50s:   oh; you're; love; spell; ain't\n",
    "\n",
    "60s:   baby; want; come; time; let\n",
    "\n",
    "70s:   come; got; little; i'm; baby\n",
    "\n",
    "80s:   groove; come; fascist; thang; brothers\n",
    "\n",
    "90s:   i'm; na; love; know; it's\n",
    "\n",
    "00s:   i'm; just; it's; got; know"
   ]
  },
  {
   "cell_type": "code",
   "execution_count": null,
   "metadata": {},
   "outputs": [],
   "source": []
  },
  {
   "cell_type": "code",
   "execution_count": null,
   "metadata": {},
   "outputs": [],
   "source": []
  }
 ],
 "metadata": {
  "anaconda-cloud": {},
  "kernelspec": {
   "display_name": "Python 3",
   "language": "python",
   "name": "python3"
  },
  "language_info": {
   "codemirror_mode": {
    "name": "ipython",
    "version": 3
   },
   "file_extension": ".py",
   "mimetype": "text/x-python",
   "name": "python",
   "nbconvert_exporter": "python",
   "pygments_lexer": "ipython3",
   "version": "3.6.4"
  }
 },
 "nbformat": 4,
 "nbformat_minor": 2
}
