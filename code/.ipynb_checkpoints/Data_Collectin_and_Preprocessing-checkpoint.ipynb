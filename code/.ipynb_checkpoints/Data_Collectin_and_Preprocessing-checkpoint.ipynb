{
 "cells": [
  {
   "cell_type": "markdown",
   "metadata": {},
   "source": [
    "## data collection and preprocessing\n",
    "\n"
   ]
  },
  {
   "cell_type": "code",
   "execution_count": 1,
   "metadata": {},
   "outputs": [],
   "source": [
    "% matplotlib inline\n",
    "\n",
    "# Standard imports\n",
    "import numpy as np\n",
    "import pandas as pd\n",
    "import matplotlib.pyplot as plt\n",
    "import seaborn as sns\n",
    "\n",
    "# We do this to ignore several specific Pandas warnings\n",
    "import warnings\n",
    "import requests\n",
    "import json\n",
    "warnings.filterwarnings(\"ignore\")"
   ]
  },
  {
   "cell_type": "markdown",
   "metadata": {},
   "source": [
    "### Extract data from Million Song Subset which is 1.8G in size"
   ]
  },
  {
   "cell_type": "code",
   "execution_count": 2,
   "metadata": {},
   "outputs": [],
   "source": [
    "import os, sys\n",
    "\n",
    "dir_tree = 'C:/Users/hp/Desktop/Music-Mood-Detection-using-Text-Mining-on-Lyrics--master/text mining on music lyrics/data/MSM'\n",
    "\n",
    "for dir_path, dir_names, file_names in os.walk(dir_tree):\n",
    "    for file_name in file_names:\n",
    "        try:\n",
    "            os.rename(os.path.join(dir_path, file_name), os.path.join(dir_tree, file_name))\n",
    "        except OSError:\n",
    "            print (\"Could not move %s \" % os.join(dir_path, file_name))"
   ]
  },
  {
   "cell_type": "markdown",
   "metadata": {},
   "source": [
    "### Build an artist table with file,title, artist columns"
   ]
  },
  {
   "cell_type": "code",
   "execution_count": 3,
   "metadata": {},
   "outputs": [],
   "source": [
    "def make_artist_table(base):\n",
    "\n",
    "# Get file names\n",
    "\n",
    "    files = [os.path.join(base,fn) for fn in os.listdir(base) if fn.endswith('.h5')]\n",
    "    data = {'file':[], 'artist':[], 'title':[]}\n",
    "\n",
    "    # Add artist and title data to dictionary\n",
    "    for f in files:\n",
    "        store = pd.HDFStore(f)\n",
    "        title = store.root.metadata.songs.cols.title[0]\n",
    "        artist = store.root.metadata.songs.cols.artist_name[0]\n",
    "        data['file'].append(os.path.basename(f))\n",
    "        data['title'].append(title.decode(\"utf-8\"))\n",
    "        data['artist'].append(artist.decode(\"utf-8\"))\n",
    "        store.close()\n",
    "    \n",
    "    # Convert dictionary to pandas DataFrame\n",
    "    df = pd.DataFrame.from_dict(data, orient='columns')\n",
    "    df = df[['file', 'artist', 'title']]\n",
    "    return df"
   ]
  },
  {
   "cell_type": "code",
   "execution_count": 4,
   "metadata": {},
   "outputs": [
    {
     "data": {
      "text/html": [
       "<div>\n",
       "<style scoped>\n",
       "    .dataframe tbody tr th:only-of-type {\n",
       "        vertical-align: middle;\n",
       "    }\n",
       "\n",
       "    .dataframe tbody tr th {\n",
       "        vertical-align: top;\n",
       "    }\n",
       "\n",
       "    .dataframe thead th {\n",
       "        text-align: right;\n",
       "    }\n",
       "</style>\n",
       "<table border=\"1\" class=\"dataframe\">\n",
       "  <thead>\n",
       "    <tr style=\"text-align: right;\">\n",
       "      <th></th>\n",
       "      <th>file</th>\n",
       "      <th>artist</th>\n",
       "      <th>title</th>\n",
       "    </tr>\n",
       "  </thead>\n",
       "  <tbody>\n",
       "    <tr>\n",
       "      <th>259</th>\n",
       "      <td>TRBIFNO128F42702FB.h5</td>\n",
       "      <td>Tha Liks</td>\n",
       "      <td>Intro</td>\n",
       "    </tr>\n",
       "    <tr>\n",
       "      <th>260</th>\n",
       "      <td>TRBIFOK128EF362D20.h5</td>\n",
       "      <td>The Pharcyde</td>\n",
       "      <td>I'm That Type Of Ni**a</td>\n",
       "    </tr>\n",
       "    <tr>\n",
       "      <th>261</th>\n",
       "      <td>TRBIFPI12903CEAFB6.h5</td>\n",
       "      <td>John D. Loudermilk</td>\n",
       "      <td>Somebody Sweet</td>\n",
       "    </tr>\n",
       "    <tr>\n",
       "      <th>262</th>\n",
       "      <td>TRBIFPX12903CCF859.h5</td>\n",
       "      <td>Cornell Campbell</td>\n",
       "      <td>Just My Imagination</td>\n",
       "    </tr>\n",
       "    <tr>\n",
       "      <th>263</th>\n",
       "      <td>TRBIFUD128F1495AE2.h5</td>\n",
       "      <td>Hot Boys</td>\n",
       "      <td>Young Riders</td>\n",
       "    </tr>\n",
       "  </tbody>\n",
       "</table>\n",
       "</div>"
      ],
      "text/plain": [
       "                      file              artist                   title\n",
       "259  TRBIFNO128F42702FB.h5            Tha Liks                   Intro\n",
       "260  TRBIFOK128EF362D20.h5        The Pharcyde  I'm That Type Of Ni**a\n",
       "261  TRBIFPI12903CEAFB6.h5  John D. Loudermilk          Somebody Sweet\n",
       "262  TRBIFPX12903CCF859.h5    Cornell Campbell     Just My Imagination\n",
       "263  TRBIFUD128F1495AE2.h5            Hot Boys            Young Riders"
      ]
     },
     "execution_count": 4,
     "metadata": {},
     "output_type": "execute_result"
    }
   ],
   "source": [
    "base = 'C:/Users/hp/Desktop/Music-Mood-Detection-using-Text-Mining-on-Lyrics--master/text mining on music lyrics/data/MSM'\n",
    "df = make_artist_table(base)\n",
    "\n",
    "df.tail()"
   ]
  },
  {
   "cell_type": "markdown",
   "metadata": {},
   "source": [
    "### Add the lyrics column"
   ]
  },
  {
   "cell_type": "code",
   "execution_count": 5,
   "metadata": {},
   "outputs": [
    {
     "data": {
      "text/html": [
       "<div>\n",
       "<style scoped>\n",
       "    .dataframe tbody tr th:only-of-type {\n",
       "        vertical-align: middle;\n",
       "    }\n",
       "\n",
       "    .dataframe tbody tr th {\n",
       "        vertical-align: top;\n",
       "    }\n",
       "\n",
       "    .dataframe thead th {\n",
       "        text-align: right;\n",
       "    }\n",
       "</style>\n",
       "<table border=\"1\" class=\"dataframe\">\n",
       "  <thead>\n",
       "    <tr style=\"text-align: right;\">\n",
       "      <th></th>\n",
       "      <th>file</th>\n",
       "      <th>artist</th>\n",
       "      <th>title</th>\n",
       "      <th>lyrics</th>\n",
       "    </tr>\n",
       "  </thead>\n",
       "  <tbody>\n",
       "    <tr>\n",
       "      <th>259</th>\n",
       "      <td>TRBIFNO128F42702FB.h5</td>\n",
       "      <td>Tha Liks</td>\n",
       "      <td>Intro</td>\n",
       "      <td></td>\n",
       "    </tr>\n",
       "    <tr>\n",
       "      <th>260</th>\n",
       "      <td>TRBIFOK128EF362D20.h5</td>\n",
       "      <td>The Pharcyde</td>\n",
       "      <td>I'm That Type Of Ni**a</td>\n",
       "      <td></td>\n",
       "    </tr>\n",
       "    <tr>\n",
       "      <th>261</th>\n",
       "      <td>TRBIFPI12903CEAFB6.h5</td>\n",
       "      <td>John D. Loudermilk</td>\n",
       "      <td>Somebody Sweet</td>\n",
       "      <td></td>\n",
       "    </tr>\n",
       "    <tr>\n",
       "      <th>262</th>\n",
       "      <td>TRBIFPX12903CCF859.h5</td>\n",
       "      <td>Cornell Campbell</td>\n",
       "      <td>Just My Imagination</td>\n",
       "      <td></td>\n",
       "    </tr>\n",
       "    <tr>\n",
       "      <th>263</th>\n",
       "      <td>TRBIFUD128F1495AE2.h5</td>\n",
       "      <td>Hot Boys</td>\n",
       "      <td>Young Riders</td>\n",
       "      <td></td>\n",
       "    </tr>\n",
       "  </tbody>\n",
       "</table>\n",
       "</div>"
      ],
      "text/plain": [
       "                      file              artist                   title lyrics\n",
       "259  TRBIFNO128F42702FB.h5            Tha Liks                   Intro       \n",
       "260  TRBIFOK128EF362D20.h5        The Pharcyde  I'm That Type Of Ni**a       \n",
       "261  TRBIFPI12903CEAFB6.h5  John D. Loudermilk          Somebody Sweet       \n",
       "262  TRBIFPX12903CCF859.h5    Cornell Campbell     Just My Imagination       \n",
       "263  TRBIFUD128F1495AE2.h5            Hot Boys            Young Riders       "
      ]
     },
     "execution_count": 5,
     "metadata": {},
     "output_type": "execute_result"
    }
   ],
   "source": [
    "df['lyrics'] = pd.Series('', index=df.index)\n",
    "df.tail()"
   ]
  },
  {
   "cell_type": "markdown",
   "metadata": {},
   "source": [
    "### download the PyLyrics package to download lyrics from the website"
   ]
  },
  {
   "cell_type": "code",
   "execution_count": 6,
   "metadata": {},
   "outputs": [],
   "source": [
    "#!pip install PyLyrics"
   ]
  },
  {
   "cell_type": "code",
   "execution_count": 7,
   "metadata": {},
   "outputs": [],
   "source": [
    "from PyLyrics import *"
   ]
  },
  {
   "cell_type": "code",
   "execution_count": 8,
   "metadata": {},
   "outputs": [
    {
     "name": "stdout",
     "output_type": "stream",
     "text": [
      "You gotta go and get angry at all of my honesty\n",
      "You know I try but I don't do too well with apologies\n",
      "I hope I don't run out of time, could someone call the referee?\n",
      "'Cause I just need one more shot at forgiveness\n",
      "\n",
      "I know you know that I made those mistakes maybe once or twice\n",
      "And by once or twice I mean maybe a couple a hundred times\n",
      "So let me, oh let me redeem, oh redeem, oh myself tonight\n",
      "'Cause I just need one more shot, second chances\n",
      "\n",
      "Is it too late now to say sorry?\n",
      "'Cause I'm missing more than just your body, oh\n",
      "Is it too late now to say sorry?\n",
      "Yeah, I know that I let you down\n",
      "Is it too late to say I'm sorry now?\n",
      "\n",
      "I'm sorry, yeah\n",
      "Sorry, yeah\n",
      "Sorry\n",
      "Yeah, I know that I let you down\n",
      "Is it too late to say I'm sorry now?\n",
      "\n",
      "I'll take every single piece of the blame if you want me to\n",
      "But you know that there is no innocent one in this game for two\n",
      "I'll go, I'll go and then you go, you go out and spill the truth\n",
      "Can we both say the words and forget this?\n",
      "\n",
      "Yeah, is it too late now to say sorry?\n",
      "'Cause I'm missing more than just your body, oh\n",
      "Is it too late now to say sorry?\n",
      "Yeah, I know that I let you down\n",
      "Is it too late to say I'm sorry now?\n",
      "\n",
      "I'm not just trying to get you back on me, oh no\n",
      "'Cause I'm missing more than just your body, oh\n",
      "Is it too late now to say sorry?\n",
      "Yeah, I know that I let you down\n",
      "Is it too late to say I'm sorry now?\n",
      "\n",
      "I'm sorry, yeah\n",
      "Sorry, oh\n",
      "Sorry\n",
      "Yeah, I know that I let you down\n",
      "Is it too late to say I'm sorry now?\n",
      "\n",
      "I'm sorry, yeah\n",
      "Sorry\n",
      "Sorry\n",
      "Yeah, I know that I let you down\n",
      "Is it too late to say I'm sorry now?\n"
     ]
    }
   ],
   "source": [
    " from PyLyrics import *\n",
    "## test this function\n",
    "print(PyLyrics.getLyrics('justin bieber','Sorry')) #Print the lyrics directly"
   ]
  },
  {
   "cell_type": "code",
   "execution_count": 9,
   "metadata": {},
   "outputs": [],
   "source": [
    "#!pip install pyprind"
   ]
  },
  {
   "cell_type": "code",
   "execution_count": 10,
   "metadata": {},
   "outputs": [],
   "source": [
    "import pyprind"
   ]
  },
  {
   "cell_type": "markdown",
   "metadata": {},
   "source": [
    "### download lyrics with the arguments of artist and track name"
   ]
  },
  {
   "cell_type": "code",
   "execution_count": 11,
   "metadata": {},
   "outputs": [],
   "source": [
    "tpbar = pyprind.ProgBar(df.shape[0])\n",
    "for row_id in df.index:\n",
    "    try:\n",
    "        lyr = PyLyrics.getLyrics(df.loc[row_id]['artist'],df.loc[row_id]['title'])    \n",
    "        df.loc[row_id,'lyrics'] = lyr\n",
    "        pbar.update()\n",
    "    except: #ignore erro when API returns no lyrics \n",
    "        continue\n"
   ]
  },
  {
   "cell_type": "code",
   "execution_count": 12,
   "metadata": {},
   "outputs": [
    {
     "name": "stdout",
     "output_type": "stream",
     "text": [
      "downloaded Lyrics for 88 songs\n"
     ]
    },
    {
     "data": {
      "text/html": [
       "<div>\n",
       "<style scoped>\n",
       "    .dataframe tbody tr th:only-of-type {\n",
       "        vertical-align: middle;\n",
       "    }\n",
       "\n",
       "    .dataframe tbody tr th {\n",
       "        vertical-align: top;\n",
       "    }\n",
       "\n",
       "    .dataframe thead th {\n",
       "        text-align: right;\n",
       "    }\n",
       "</style>\n",
       "<table border=\"1\" class=\"dataframe\">\n",
       "  <thead>\n",
       "    <tr style=\"text-align: right;\">\n",
       "      <th></th>\n",
       "      <th>file</th>\n",
       "      <th>artist</th>\n",
       "      <th>title</th>\n",
       "      <th>lyrics</th>\n",
       "    </tr>\n",
       "  </thead>\n",
       "  <tbody>\n",
       "    <tr>\n",
       "      <th>0</th>\n",
       "      <td>TRAAAAW128F429D538.h5</td>\n",
       "      <td>Casual</td>\n",
       "      <td>I Didn't Mean To</td>\n",
       "      <td>Verse One:\\n\\nAll right I might\\nHave had a li...</td>\n",
       "    </tr>\n",
       "    <tr>\n",
       "      <th>1</th>\n",
       "      <td>TRAAABD128F429CF47.h5</td>\n",
       "      <td>The Box Tops</td>\n",
       "      <td>Soul Deep</td>\n",
       "      <td>Darling, I don't know much\\nBut I know I love ...</td>\n",
       "    </tr>\n",
       "    <tr>\n",
       "      <th>2</th>\n",
       "      <td>TRAAADZ128F9348C2E.h5</td>\n",
       "      <td>Sonora Santanera</td>\n",
       "      <td>Amor De Cabaret</td>\n",
       "      <td></td>\n",
       "    </tr>\n",
       "    <tr>\n",
       "      <th>3</th>\n",
       "      <td>TRAAAEF128F4273421.h5</td>\n",
       "      <td>Adam Ant</td>\n",
       "      <td>Something Girls</td>\n",
       "      <td>Adam Ant/Marco Pirroni\\nEvery girl is a someth...</td>\n",
       "    </tr>\n",
       "    <tr>\n",
       "      <th>4</th>\n",
       "      <td>TRAHXZJ128F930C784.h5</td>\n",
       "      <td>Seamus Egan</td>\n",
       "      <td>McDermott's Fancy / Swans Among The Rushes / C...</td>\n",
       "      <td></td>\n",
       "    </tr>\n",
       "  </tbody>\n",
       "</table>\n",
       "</div>"
      ],
      "text/plain": [
       "                    file            artist  \\\n",
       "0  TRAAAAW128F429D538.h5            Casual   \n",
       "1  TRAAABD128F429CF47.h5      The Box Tops   \n",
       "2  TRAAADZ128F9348C2E.h5  Sonora Santanera   \n",
       "3  TRAAAEF128F4273421.h5          Adam Ant   \n",
       "4  TRAHXZJ128F930C784.h5       Seamus Egan   \n",
       "\n",
       "                                               title  \\\n",
       "0                                   I Didn't Mean To   \n",
       "1                                          Soul Deep   \n",
       "2                                    Amor De Cabaret   \n",
       "3                                    Something Girls   \n",
       "4  McDermott's Fancy / Swans Among The Rushes / C...   \n",
       "\n",
       "                                              lyrics  \n",
       "0  Verse One:\\n\\nAll right I might\\nHave had a li...  \n",
       "1  Darling, I don't know much\\nBut I know I love ...  \n",
       "2                                                     \n",
       "3  Adam Ant/Marco Pirroni\\nEvery girl is a someth...  \n",
       "4                                                     "
      ]
     },
     "execution_count": 12,
     "metadata": {},
     "output_type": "execute_result"
    }
   ],
   "source": [
    "print('downloaded Lyrics for %s songs' %sum(df.lyrics!=''))\n",
    "df.head()"
   ]
  },
  {
   "cell_type": "code",
   "execution_count": 13,
   "metadata": {},
   "outputs": [],
   "source": [
    "df.to_csv('df_lyr_backup.csv')"
   ]
  },
  {
   "cell_type": "markdown",
   "metadata": {},
   "source": [
    "### drop rows that has no lyrics"
   ]
  },
  {
   "cell_type": "code",
   "execution_count": 14,
   "metadata": {},
   "outputs": [],
   "source": [
    "df = df[df.lyrics!='']"
   ]
  },
  {
   "cell_type": "markdown",
   "metadata": {},
   "source": [
    "### remove songs that is not English song"
   ]
  },
  {
   "cell_type": "code",
   "execution_count": 15,
   "metadata": {},
   "outputs": [],
   "source": [
    "import nltk\n",
    "#nltk.download('words')\n",
    "def eng_ratio(text):\n",
    "    ''' Returns the ratio of non-English to English words from a text '''\n",
    "\n",
    "    english_vocab = set(w.lower() for w in nltk.corpus.words.words()) \n",
    "    text_vocab = set(w.lower() for w in text.split() if w.lower().isalpha()) \n",
    "    unusual = text_vocab.difference(english_vocab)\n",
    "    diff = len(unusual)/len(text_vocab)\n",
    "    return diff"
   ]
  },
  {
   "cell_type": "code",
   "execution_count": 16,
   "metadata": {},
   "outputs": [
    {
     "name": "stdout",
     "output_type": "stream",
     "text": [
      "9 have been removed.\n",
      "79 songs remain in the dataset.\n"
     ]
    }
   ],
   "source": [
    "before = df.shape[0]\n",
    "for row_id in df.index:\n",
    "    text = df.loc[row_id]['lyrics']\n",
    "    diff = eng_ratio(text)\n",
    "    if diff >= 0.5:\n",
    "        df = df[df.index != row_id]\n",
    "after = df.shape[0]\n",
    "rem = before - after\n",
    "print('%s have been removed.' %rem)\n",
    "print('%s songs remain in the dataset.' %after)"
   ]
  },
  {
   "cell_type": "markdown",
   "metadata": {},
   "source": [
    "### Till now, we got the songs with lyrics, but we have to tag each song with mood. Here I download the tags from Last.fm and classified each some with happy mood or sad mood"
   ]
  },
  {
   "cell_type": "code",
   "execution_count": 17,
   "metadata": {},
   "outputs": [],
   "source": [
    "def getSongTags(artist,track):\n",
    "    url = \"http://ws.audioscrobbler.com/2.0/?method=track.getTopTags&api_key=0f6916aff634cb3e768baa9d5ee89341&artist=\"+artist+\"&track=\"+track+\"&format=json\"\n",
    "#     print(url)\n",
    "    results = requests.get(url).json()\n",
    "#     print(results)\n",
    "    tagList = []\n",
    "    if 'toptags' in results:\n",
    "        toptags = results['toptags']\n",
    "        if 'tag' in toptags:\n",
    "            taglistss = toptags['tag']           \n",
    "            for tagItem in taglistss:\n",
    "                tagList.append(tagItem['name']) \n",
    "    return tagList"
   ]
  },
  {
   "cell_type": "code",
   "execution_count": 18,
   "metadata": {},
   "outputs": [
    {
     "name": "stderr",
     "output_type": "stream",
     "text": [
      "0% [##############################] 100% | ETA: 00:00:00\n",
      "Total time elapsed: 00:01:01\n"
     ]
    }
   ],
   "source": [
    "df['tags'] = ''\n",
    "pbar = pyprind.ProgBar(df.shape[0])\n",
    "for row_id in df.index:\n",
    "    tags = getSongTags(df.loc[row_id]['artist'],df.loc[row_id]['title'])    \n",
    "    df.loc[row_id,'tags'] = tags\n",
    "    pbar.update()\n",
    "    \n"
   ]
  },
  {
   "cell_type": "code",
   "execution_count": 20,
   "metadata": {},
   "outputs": [
    {
     "data": {
      "text/plain": [
       "['rnb',\n",
       " 'soul',\n",
       " 'urban',\n",
       " 'r&b',\n",
       " 'trap',\n",
       " 'alternative rnb',\n",
       " 'sad',\n",
       " 'Love',\n",
       " 'Canadian',\n",
       " 'love at first listen',\n",
       " 'Selena Gomez',\n",
       " 'heartbreaker',\n",
       " 'The Weeknd',\n",
       " 'Selena',\n",
       " '2018',\n",
       " '2018 single',\n",
       " 'obrigado pelos mimos selena',\n",
       " 'selena amorr']"
      ]
     },
     "execution_count": 20,
     "metadata": {},
     "output_type": "execute_result"
    }
   ],
   "source": [
    "getSongTags(\"The Weeknd\",\"Call Out My Name\")"
   ]
  },
  {
   "cell_type": "code",
   "execution_count": 21,
   "metadata": {},
   "outputs": [
    {
     "data": {
      "text/plain": [
       "0      [Bay Area, hieroglyiphics, Hip-Hop, classic, h...\n",
       "1      [60s, soul, pop, rock, oldies, 1969, classic r...\n",
       "3      [new wave, 80s, girls, freedom, strangeromanti...\n",
       "5                                      [guitar virtuoso]\n",
       "6      [blues, delta blues, mississippi, high and low...\n",
       "11                 [rhcp, Genialne, Ive Sung At Karaoke]\n",
       "12                                                    []\n",
       "14     [jazz, latin, cover, lounge, summer, covers, e...\n",
       "21                    [underground hip hop, likwit crew]\n",
       "29     [pop, rnb, jennifer lopez, dance, latin, femal...\n",
       "33                             [christian rock, worship]\n",
       "35     [loved, Southern Rock, post-hardcore, southern...\n",
       "38                                 [Contemporary Gospel]\n",
       "44                                                    []\n",
       "47     [female vocalists, pop, acoustic, indie, singe...\n",
       "48     [covers, cover, insane, heard on Pandora, good...\n",
       "59     [post-hardcore, alternative rock, rock, powerf...\n",
       "61     [blues, rock n roll, country, funk, blues rock...\n",
       "62               [metalcore, metal, punk, hardcore punk]\n",
       "64                                                    []\n",
       "68     [pop, female vocalists, gwen stefani, Love, da...\n",
       "69                                                    []\n",
       "79                             [indie, alternative, emo]\n",
       "81     [pop, Phil Collins, 80s, soft rock, easy liste...\n",
       "90     [Hip-Hop, rap, rnb, Black, Love it, hip-hop an...\n",
       "91     [Soundtrack, 80s, favorite songs, cover, orche...\n",
       "96     [powersynth, female vocalists, Awesome, spooky...\n",
       "98                                      [90s, eurodance]\n",
       "102    [House, dance, electronic, roger sanchez, deep...\n",
       "111    [black metal, Symphonic Black Metal, melodic b...\n",
       "                             ...                        \n",
       "169    [rock, pop, female vocalists, pop rock, avril ...\n",
       "171    [rock, alternative, alternative rock, indie, i...\n",
       "174                                                   []\n",
       "176                                        [Dirty South]\n",
       "178                                                   []\n",
       "179                                       [folk, celtic]\n",
       "180    [Hip-Hop, classic, new york, Rap  Hip-Hop, har...\n",
       "184                                                   []\n",
       "185       [rock, alternative, SG, led to band discovery]\n",
       "190    [folk metal, pagan metal, Melodic Death Metal,...\n",
       "193    [Grunge, indie, where is my bong, noise, rock,...\n",
       "198    [electronic, indie, indie pop, lovedbygdchill,...\n",
       "199                      [indie, indie rock, krachmusik]\n",
       "200    [Love, alternative, breakup, chill, rock, alte...\n",
       "204                                          [rock, fav]\n",
       "205    [hard rock, rock, classic rock, 80s, singer-so...\n",
       "213                                                   []\n",
       "215    [mathcore, hardcore, metal, experimental, meta...\n",
       "216                                      [7 of 10 stars]\n",
       "224                                                   []\n",
       "228    [country, western swing, Soundtrack, k-rose, G...\n",
       "229    [classic rock, Supernatural, rock, 70s, Bad Co...\n",
       "231    [alternative, indie, rock, indie rock, alterna...\n",
       "234    [pop, 80s, Madonna, female vocalists, dance, 1...\n",
       "242                                                   []\n",
       "244                                                   []\n",
       "245                                              [blues]\n",
       "251    [Hip-Hop, rap, hip hop, Kanye West, 00s, chica...\n",
       "257    [indie rock, indie, rock, alternative rock, al...\n",
       "263    [Hip-Hop, hip hop, rap, rnb, hip hop and rap, ...\n",
       "Name: tags, Length: 79, dtype: object"
      ]
     },
     "execution_count": 21,
     "metadata": {},
     "output_type": "execute_result"
    }
   ],
   "source": [
    "df['tags']\n",
    "# df.head()"
   ]
  },
  {
   "cell_type": "code",
   "execution_count": 22,
   "metadata": {},
   "outputs": [],
   "source": [
    "for row_id in df.index:     \n",
    "    if len(df.loc[row_id,'tags'])==0:\n",
    "        df = df.drop(row_id)\n",
    "    "
   ]
  },
  {
   "cell_type": "code",
   "execution_count": 24,
   "metadata": {},
   "outputs": [],
   "source": [
    "df['year'] = pd.Series('', index=df.index)\n",
    "\n",
    "base = 'C:/Users/hp/Desktop/Music-Mood-Detection-using-Text-Mining-on-Lyrics--master/text mining on music lyrics/data/MSM'\n",
    "files = [os.path.join(base,fn) for fn in os.listdir(base) if fn.endswith('.h5')]\n",
    "for row_id in df.index:\n",
    "    filename = df.loc[row_id]['file']\n",
    "    filepath = os.path.join(base,filename)\n",
    "    store = pd.HDFStore(filepath)\n",
    "    year = store.root.musicbrainz.songs.cols.year[0]\n",
    "    df.loc[row_id]['year'] = year"
   ]
  },
  {
   "cell_type": "markdown",
   "metadata": {},
   "source": [
    "<img src=\"image.png\">"
   ]
  },
  {
   "cell_type": "code",
   "execution_count": 26,
   "metadata": {},
   "outputs": [
    {
     "data": {
      "text/plain": [
       "65"
      ]
     },
     "execution_count": 26,
     "metadata": {},
     "output_type": "execute_result"
    }
   ],
   "source": [
    "df.shape[0]"
   ]
  },
  {
   "cell_type": "markdown",
   "metadata": {},
   "source": [
    "## Happy or Sad\n",
    "### Group id\tTags\tnum. of tags\tnum. of songs\n",
    "#### sad tags:\n",
    "\n",
    "G15\tsad, sadness, unhappy, melancholic, melancholy, feeling sad, mood: sad - slightly, sad song\t8\t1,178\n",
    "\n",
    "G16\tdepressed, blue, dark, depressive, dreary, gloom, darkness, depress, depression, depressing, gloomy\t11\t471\n",
    "\n",
    "G28\tanger, angry, choleric, fury, outraged, rage, angry music\t7\t254\n",
    "\n",
    "G17\tgrief, heartbreak, mournful, sorrow, sorry, doleful, heartache, heartbreaking, heartsick, lachrymose, mourning, plaintive, regret, sorrowful\t14\t183\n",
    "\n",
    "#### happy tags:\n",
    "G6\tcheerful, cheer up, festive, jolly, jovial, merry, cheer, cheering, cheery, get happy, rejoice, songs that are cheerful, sunny\t13\t142\n",
    "\n",
    "G5\thappy, happiness, happy songs, happy music, glad, mood: happy\t6\t749\n",
    "\n",
    "G2\tupbeat, gleeful, high spirits, zest, enthusiastic, buoyancy, elation, mood: upbeat\t8\t543\n",
    "\n",
    "G1\texcitement, exciting, exhilarating, thrill, ardor, stimulating, thrilling, titillating\t8\t30\n",
    "TOTAL\t\t135\t6,490\n",
    "\n",
    "### This tag summary comes from the last.fm website which were group into different categories. Here, I choose group 15,16,28,17 as sad tag and group 5,6,2,1 as happy songs"
   ]
  },
  {
   "cell_type": "code",
   "execution_count": 27,
   "metadata": {},
   "outputs": [],
   "source": [
    "happyTags = \"cheerful, cheer up, festive, jolly, jovial, merry, cheer, cheering,\\\n",
    "cheery, get happy, rejoice, songs that are cheerful, sunny,happy, happiness, happy songs, happy music, glad, mood: happy,\\\n",
    "upbeat, gleeful, high spirits, zest, enthusiastic, buoyancy, elation, mood: upbeat,excitement, exciting, exhilarating, thrill,\\\n",
    "ardor, stimulating, thrilling, titillating\"\n",
    "happyTags = happyTags.replace(\" \",\"\").split(\",\")\n",
    "\n",
    "sagTags = \"sad, sadness, unhappy, melancholic, melancholy, feeling sad, mood: sad - slightly, sad song,\\\n",
    "depressed, blue, dark, depressive, dreary, gloom, darkness, depress, depression, depressing, gloomy,\\\n",
    "anger, angry, choleric, fury, outraged, rage, angry music,grief, heartbreak, mournful, sorrow, sorry, doleful, heartache, heartbreaking, heartsick, lachrymose, mourning,\\\n",
    "plaintive, regret, sorrowful\"\n",
    "sagTags = sagTags.replace(\" \",\"\").split(\",\")"
   ]
  },
  {
   "cell_type": "code",
   "execution_count": 28,
   "metadata": {},
   "outputs": [
    {
     "data": {
      "text/plain": [
       "['cheerful',\n",
       " 'cheerup',\n",
       " 'festive',\n",
       " 'jolly',\n",
       " 'jovial',\n",
       " 'merry',\n",
       " 'cheer',\n",
       " 'cheering',\n",
       " 'cheery',\n",
       " 'gethappy',\n",
       " 'rejoice',\n",
       " 'songsthatarecheerful',\n",
       " 'sunny',\n",
       " 'happy',\n",
       " 'happiness',\n",
       " 'happysongs',\n",
       " 'happymusic',\n",
       " 'glad',\n",
       " 'mood:happy',\n",
       " 'upbeat',\n",
       " 'gleeful',\n",
       " 'highspirits',\n",
       " 'zest',\n",
       " 'enthusiastic',\n",
       " 'buoyancy',\n",
       " 'elation',\n",
       " 'mood:upbeat',\n",
       " 'excitement',\n",
       " 'exciting',\n",
       " 'exhilarating',\n",
       " 'thrill',\n",
       " 'ardor',\n",
       " 'stimulating',\n",
       " 'thrilling',\n",
       " 'titillating']"
      ]
     },
     "execution_count": 28,
     "metadata": {},
     "output_type": "execute_result"
    }
   ],
   "source": [
    "happyTags"
   ]
  },
  {
   "cell_type": "code",
   "execution_count": 29,
   "metadata": {},
   "outputs": [
    {
     "data": {
      "text/plain": [
       "['sad',\n",
       " 'sadness',\n",
       " 'unhappy',\n",
       " 'melancholic',\n",
       " 'melancholy',\n",
       " 'feelingsad',\n",
       " 'mood:sad-slightly',\n",
       " 'sadsong',\n",
       " 'depressed',\n",
       " 'blue',\n",
       " 'dark',\n",
       " 'depressive',\n",
       " 'dreary',\n",
       " 'gloom',\n",
       " 'darkness',\n",
       " 'depress',\n",
       " 'depression',\n",
       " 'depressing',\n",
       " 'gloomy',\n",
       " 'anger',\n",
       " 'angry',\n",
       " 'choleric',\n",
       " 'fury',\n",
       " 'outraged',\n",
       " 'rage',\n",
       " 'angrymusic',\n",
       " 'grief',\n",
       " 'heartbreak',\n",
       " 'mournful',\n",
       " 'sorrow',\n",
       " 'sorry',\n",
       " 'doleful',\n",
       " 'heartache',\n",
       " 'heartbreaking',\n",
       " 'heartsick',\n",
       " 'lachrymose',\n",
       " 'mourning',\n",
       " 'plaintive',\n",
       " 'regret',\n",
       " 'sorrowful']"
      ]
     },
     "execution_count": 29,
     "metadata": {},
     "output_type": "execute_result"
    }
   ],
   "source": [
    "sagTags"
   ]
  },
  {
   "cell_type": "markdown",
   "metadata": {},
   "source": [
    "### Based on the tag numbers from sad group or the happy group, we can assign a mood value 1(happy) or 0(sad) to the mood column "
   ]
  },
  {
   "cell_type": "code",
   "execution_count": 30,
   "metadata": {},
   "outputs": [
    {
     "name": "stderr",
     "output_type": "stream",
     "text": [
      "0% [##############################] 100% | ETA: 00:00:00\n",
      "Total time elapsed: 00:00:00\n"
     ]
    }
   ],
   "source": [
    "df['mood']=\"\"\n",
    "pbar = pyprind.ProgBar(df.shape[0])\n",
    "for row_id in df.index:\n",
    "    tags = df.loc[row_id,'tags']    \n",
    "    sad_tags = np.intersect1d(tags,sagTags) \n",
    "    happy_tags = np.intersect1d(tags,happyTags)\n",
    "    if len(sad_tags)>0 or len(happy_tags)>0:# having mood tag\n",
    "        if len(sad_tags)>len(happy_tags):\n",
    "            df.loc[row_id,'mood'] = 0\n",
    "        else:\n",
    "            df.loc[row_id,'mood'] = 1\n",
    "    else:\n",
    "        df = df.drop(row_id)# remove songs that does not have tag\n",
    "    pbar.update()"
   ]
  },
  {
   "cell_type": "code",
   "execution_count": 31,
   "metadata": {},
   "outputs": [
    {
     "data": {
      "text/plain": [
       "16"
      ]
     },
     "execution_count": 31,
     "metadata": {},
     "output_type": "execute_result"
    }
   ],
   "source": [
    "df.shape[0]"
   ]
  },
  {
   "cell_type": "code",
   "execution_count": 32,
   "metadata": {},
   "outputs": [
    {
     "data": {
      "text/plain": [
       "29     1\n",
       "47     1\n",
       "68     0\n",
       "81     0\n",
       "102    1\n",
       "118    1\n",
       "122    0\n",
       "139    1\n",
       "152    0\n",
       "164    0\n",
       "169    0\n",
       "171    0\n",
       "193    1\n",
       "228    0\n",
       "231    1\n",
       "257    1\n",
       "Name: mood, dtype: object"
      ]
     },
     "execution_count": 32,
     "metadata": {},
     "output_type": "execute_result"
    }
   ],
   "source": [
    "df['mood']"
   ]
  },
  {
   "cell_type": "code",
   "execution_count": 33,
   "metadata": {},
   "outputs": [
    {
     "data": {
      "text/html": [
       "<div>\n",
       "<style scoped>\n",
       "    .dataframe tbody tr th:only-of-type {\n",
       "        vertical-align: middle;\n",
       "    }\n",
       "\n",
       "    .dataframe tbody tr th {\n",
       "        vertical-align: top;\n",
       "    }\n",
       "\n",
       "    .dataframe thead th {\n",
       "        text-align: right;\n",
       "    }\n",
       "</style>\n",
       "<table border=\"1\" class=\"dataframe\">\n",
       "  <thead>\n",
       "    <tr style=\"text-align: right;\">\n",
       "      <th></th>\n",
       "      <th>file</th>\n",
       "      <th>artist</th>\n",
       "      <th>title</th>\n",
       "      <th>lyrics</th>\n",
       "      <th>tags</th>\n",
       "      <th>year</th>\n",
       "      <th>mood</th>\n",
       "    </tr>\n",
       "  </thead>\n",
       "  <tbody>\n",
       "    <tr>\n",
       "      <th>29</th>\n",
       "      <td>TRBGASN128F427BF8F.h5</td>\n",
       "      <td>Jennifer Lopez</td>\n",
       "      <td>I'm Glad</td>\n",
       "      <td>Baby, when I think about...\\nThe day that we f...</td>\n",
       "      <td>[pop, rnb, jennifer lopez, dance, latin, femal...</td>\n",
       "      <td>2002</td>\n",
       "      <td>1</td>\n",
       "    </tr>\n",
       "    <tr>\n",
       "      <th>47</th>\n",
       "      <td>TRBGEUJ128F42B06B8.h5</td>\n",
       "      <td>Sandi Thom</td>\n",
       "      <td>I Wish I Was A Punk Rocker (With Flowers In My...</td>\n",
       "      <td>Oh, I wish I was a punk rocker with flowers in...</td>\n",
       "      <td>[female vocalists, pop, acoustic, indie, singe...</td>\n",
       "      <td>2006</td>\n",
       "      <td>1</td>\n",
       "    </tr>\n",
       "    <tr>\n",
       "      <th>68</th>\n",
       "      <td>TRBGNCL128F428F56F.h5</td>\n",
       "      <td>Gwen Stefani</td>\n",
       "      <td>4 In The Morning</td>\n",
       "      <td>Waking up to find another day\\nThe moon got lo...</td>\n",
       "      <td>[pop, female vocalists, gwen stefani, Love, da...</td>\n",
       "      <td>2006</td>\n",
       "      <td>0</td>\n",
       "    </tr>\n",
       "    <tr>\n",
       "      <th>81</th>\n",
       "      <td>TRBGRIP128F147FCA6.h5</td>\n",
       "      <td>Phil Collins</td>\n",
       "      <td>Everyday</td>\n",
       "      <td>I got lost, couldn't find my way\\nAnd I guess ...</td>\n",
       "      <td>[pop, Phil Collins, 80s, soft rock, easy liste...</td>\n",
       "      <td>1993</td>\n",
       "      <td>0</td>\n",
       "    </tr>\n",
       "    <tr>\n",
       "      <th>102</th>\n",
       "      <td>TRBGXQP128F4290B22.h5</td>\n",
       "      <td>Roger Sanchez</td>\n",
       "      <td>Lost</td>\n",
       "      <td>I saw a picture yesterday,\\nYou know the one, ...</td>\n",
       "      <td>[House, dance, electronic, roger sanchez, deep...</td>\n",
       "      <td>2006</td>\n",
       "      <td>1</td>\n",
       "    </tr>\n",
       "    <tr>\n",
       "      <th>118</th>\n",
       "      <td>TRBGYVK128F426A0D6.h5</td>\n",
       "      <td>Joey Negro</td>\n",
       "      <td>Make A Move On Me</td>\n",
       "      <td>Come on make a move on me\\n\\nCome on make a mo...</td>\n",
       "      <td>[House, dance, electronic, funky house, club, ...</td>\n",
       "      <td>2005</td>\n",
       "      <td>1</td>\n",
       "    </tr>\n",
       "    <tr>\n",
       "      <th>122</th>\n",
       "      <td>TRBGZKO128F92DB016.h5</td>\n",
       "      <td>Bloc Party</td>\n",
       "      <td>Zephyrus</td>\n",
       "      <td>Backwards, forwards but making no ground at al...</td>\n",
       "      <td>[indie rock, alternative, british, Bloc Party,...</td>\n",
       "      <td>2008</td>\n",
       "      <td>0</td>\n",
       "    </tr>\n",
       "    <tr>\n",
       "      <th>139</th>\n",
       "      <td>TRBHEHF128F428385A.h5</td>\n",
       "      <td>George Michael</td>\n",
       "      <td>Amazing</td>\n",
       "      <td>I was a mixed up when you came to me\\nToo brok...</td>\n",
       "      <td>[pop, dance, George Michael, 80s, easy listeni...</td>\n",
       "      <td>2004</td>\n",
       "      <td>1</td>\n",
       "    </tr>\n",
       "    <tr>\n",
       "      <th>152</th>\n",
       "      <td>TRBHHUC128F4294C6F.h5</td>\n",
       "      <td>Scott Matthews</td>\n",
       "      <td>City Headache</td>\n",
       "      <td>City headache subsides your dreary tone\\nSend ...</td>\n",
       "      <td>[folk, singer-songwriter, acoustic, indie, Mel...</td>\n",
       "      <td>2006</td>\n",
       "      <td>0</td>\n",
       "    </tr>\n",
       "    <tr>\n",
       "      <th>164</th>\n",
       "      <td>TRBHKXX128F4252D02.h5</td>\n",
       "      <td>Radiohead</td>\n",
       "      <td>Everything In Its Right Place</td>\n",
       "      <td>Kid A, Kid A\\nKid A, Kid A\\n\\nEverything\\nEver...</td>\n",
       "      <td>[alternative, electronic, radiohead, alternati...</td>\n",
       "      <td>2000</td>\n",
       "      <td>0</td>\n",
       "    </tr>\n",
       "    <tr>\n",
       "      <th>169</th>\n",
       "      <td>TRBHLBZ128F9300586.h5</td>\n",
       "      <td>Avril Lavigne</td>\n",
       "      <td>Unwanted</td>\n",
       "      <td>All...that I did was walk over\\nStart off by s...</td>\n",
       "      <td>[rock, pop, female vocalists, pop rock, avril ...</td>\n",
       "      <td>2001</td>\n",
       "      <td>0</td>\n",
       "    </tr>\n",
       "    <tr>\n",
       "      <th>171</th>\n",
       "      <td>TRBHLDQ128F423EF10.h5</td>\n",
       "      <td>The White Stripes</td>\n",
       "      <td>Blue Orchid</td>\n",
       "      <td>You got a reaction\\nYou got a reaction, didn't...</td>\n",
       "      <td>[rock, alternative, alternative rock, indie, i...</td>\n",
       "      <td>2005</td>\n",
       "      <td>0</td>\n",
       "    </tr>\n",
       "    <tr>\n",
       "      <th>193</th>\n",
       "      <td>TRBHQHN128F148A1B3.h5</td>\n",
       "      <td>Dinosaur Jr</td>\n",
       "      <td>Green Mind</td>\n",
       "      <td>I picture things a certain way.\\nThen go back ...</td>\n",
       "      <td>[Grunge, indie, where is my bong, noise, rock,...</td>\n",
       "      <td>1991</td>\n",
       "      <td>1</td>\n",
       "    </tr>\n",
       "    <tr>\n",
       "      <th>228</th>\n",
       "      <td>TRBIAVU128EF3493BA.h5</td>\n",
       "      <td>Asleep At The Wheel</td>\n",
       "      <td>The Letter That Johnny Walker Read</td>\n",
       "      <td>Johnny Walker sat at a table at the bar, mindi...</td>\n",
       "      <td>[country, western swing, Soundtrack, k-rose, G...</td>\n",
       "      <td>2002</td>\n",
       "      <td>0</td>\n",
       "    </tr>\n",
       "    <tr>\n",
       "      <th>231</th>\n",
       "      <td>TRBIBGN128F42ADC66.h5</td>\n",
       "      <td>Phantom Planet</td>\n",
       "      <td>The Meantime</td>\n",
       "      <td>Hold on,\\nHold out.\\nYour day's full.\\nOkay,\\n...</td>\n",
       "      <td>[alternative, indie, rock, indie rock, alterna...</td>\n",
       "      <td>2004</td>\n",
       "      <td>1</td>\n",
       "    </tr>\n",
       "    <tr>\n",
       "      <th>257</th>\n",
       "      <td>TRBIFGK128F92F23A2.h5</td>\n",
       "      <td>The Killers</td>\n",
       "      <td>A Dustland Fairytale</td>\n",
       "      <td>A dustland fairytale beginning\\nOr just anothe...</td>\n",
       "      <td>[indie rock, indie, rock, alternative rock, al...</td>\n",
       "      <td>2008</td>\n",
       "      <td>1</td>\n",
       "    </tr>\n",
       "  </tbody>\n",
       "</table>\n",
       "</div>"
      ],
      "text/plain": [
       "                      file               artist  \\\n",
       "29   TRBGASN128F427BF8F.h5       Jennifer Lopez   \n",
       "47   TRBGEUJ128F42B06B8.h5           Sandi Thom   \n",
       "68   TRBGNCL128F428F56F.h5         Gwen Stefani   \n",
       "81   TRBGRIP128F147FCA6.h5         Phil Collins   \n",
       "102  TRBGXQP128F4290B22.h5        Roger Sanchez   \n",
       "118  TRBGYVK128F426A0D6.h5           Joey Negro   \n",
       "122  TRBGZKO128F92DB016.h5           Bloc Party   \n",
       "139  TRBHEHF128F428385A.h5       George Michael   \n",
       "152  TRBHHUC128F4294C6F.h5       Scott Matthews   \n",
       "164  TRBHKXX128F4252D02.h5            Radiohead   \n",
       "169  TRBHLBZ128F9300586.h5        Avril Lavigne   \n",
       "171  TRBHLDQ128F423EF10.h5    The White Stripes   \n",
       "193  TRBHQHN128F148A1B3.h5          Dinosaur Jr   \n",
       "228  TRBIAVU128EF3493BA.h5  Asleep At The Wheel   \n",
       "231  TRBIBGN128F42ADC66.h5       Phantom Planet   \n",
       "257  TRBIFGK128F92F23A2.h5          The Killers   \n",
       "\n",
       "                                                 title  \\\n",
       "29                                            I'm Glad   \n",
       "47   I Wish I Was A Punk Rocker (With Flowers In My...   \n",
       "68                                    4 In The Morning   \n",
       "81                                            Everyday   \n",
       "102                                               Lost   \n",
       "118                                  Make A Move On Me   \n",
       "122                                           Zephyrus   \n",
       "139                                            Amazing   \n",
       "152                                      City Headache   \n",
       "164                      Everything In Its Right Place   \n",
       "169                                           Unwanted   \n",
       "171                                        Blue Orchid   \n",
       "193                                         Green Mind   \n",
       "228                 The Letter That Johnny Walker Read   \n",
       "231                                       The Meantime   \n",
       "257                               A Dustland Fairytale   \n",
       "\n",
       "                                                lyrics  \\\n",
       "29   Baby, when I think about...\\nThe day that we f...   \n",
       "47   Oh, I wish I was a punk rocker with flowers in...   \n",
       "68   Waking up to find another day\\nThe moon got lo...   \n",
       "81   I got lost, couldn't find my way\\nAnd I guess ...   \n",
       "102  I saw a picture yesterday,\\nYou know the one, ...   \n",
       "118  Come on make a move on me\\n\\nCome on make a mo...   \n",
       "122  Backwards, forwards but making no ground at al...   \n",
       "139  I was a mixed up when you came to me\\nToo brok...   \n",
       "152  City headache subsides your dreary tone\\nSend ...   \n",
       "164  Kid A, Kid A\\nKid A, Kid A\\n\\nEverything\\nEver...   \n",
       "169  All...that I did was walk over\\nStart off by s...   \n",
       "171  You got a reaction\\nYou got a reaction, didn't...   \n",
       "193  I picture things a certain way.\\nThen go back ...   \n",
       "228  Johnny Walker sat at a table at the bar, mindi...   \n",
       "231  Hold on,\\nHold out.\\nYour day's full.\\nOkay,\\n...   \n",
       "257  A dustland fairytale beginning\\nOr just anothe...   \n",
       "\n",
       "                                                  tags  year mood  \n",
       "29   [pop, rnb, jennifer lopez, dance, latin, femal...  2002    1  \n",
       "47   [female vocalists, pop, acoustic, indie, singe...  2006    1  \n",
       "68   [pop, female vocalists, gwen stefani, Love, da...  2006    0  \n",
       "81   [pop, Phil Collins, 80s, soft rock, easy liste...  1993    0  \n",
       "102  [House, dance, electronic, roger sanchez, deep...  2006    1  \n",
       "118  [House, dance, electronic, funky house, club, ...  2005    1  \n",
       "122  [indie rock, alternative, british, Bloc Party,...  2008    0  \n",
       "139  [pop, dance, George Michael, 80s, easy listeni...  2004    1  \n",
       "152  [folk, singer-songwriter, acoustic, indie, Mel...  2006    0  \n",
       "164  [alternative, electronic, radiohead, alternati...  2000    0  \n",
       "169  [rock, pop, female vocalists, pop rock, avril ...  2001    0  \n",
       "171  [rock, alternative, alternative rock, indie, i...  2005    0  \n",
       "193  [Grunge, indie, where is my bong, noise, rock,...  1991    1  \n",
       "228  [country, western swing, Soundtrack, k-rose, G...  2002    0  \n",
       "231  [alternative, indie, rock, indie rock, alterna...  2004    1  \n",
       "257  [indie rock, indie, rock, alternative rock, al...  2008    1  "
      ]
     },
     "execution_count": 33,
     "metadata": {},
     "output_type": "execute_result"
    }
   ],
   "source": [
    "df"
   ]
  },
  {
   "cell_type": "code",
   "execution_count": 34,
   "metadata": {},
   "outputs": [],
   "source": [
    "df['year'] = pd.Series('', index=df.index)\n",
    "\n",
    "base = 'C:/Users/hp/Desktop/Music-Mood-Detection-using-Text-Mining-on-Lyrics--master/text mining on music lyrics/data/MSM'\n",
    "files = [os.path.join(base,fn) for fn in os.listdir(base) if fn.endswith('.h5')]\n",
    "for row_id in df.index:\n",
    "    filename = df.loc[row_id]['file']\n",
    "    filepath = os.path.join(base,filename)\n",
    "    store = pd.HDFStore(filepath)\n",
    "    year = store.root.musicbrainz.songs.cols.year[0]\n",
    "    df.loc[row_id]['year'] = year"
   ]
  },
  {
   "cell_type": "code",
   "execution_count": 35,
   "metadata": {
    "scrolled": true
   },
   "outputs": [
    {
     "data": {
      "text/html": [
       "<div>\n",
       "<style scoped>\n",
       "    .dataframe tbody tr th:only-of-type {\n",
       "        vertical-align: middle;\n",
       "    }\n",
       "\n",
       "    .dataframe tbody tr th {\n",
       "        vertical-align: top;\n",
       "    }\n",
       "\n",
       "    .dataframe thead th {\n",
       "        text-align: right;\n",
       "    }\n",
       "</style>\n",
       "<table border=\"1\" class=\"dataframe\">\n",
       "  <thead>\n",
       "    <tr style=\"text-align: right;\">\n",
       "      <th></th>\n",
       "      <th>file</th>\n",
       "      <th>artist</th>\n",
       "      <th>title</th>\n",
       "      <th>lyrics</th>\n",
       "      <th>tags</th>\n",
       "      <th>year</th>\n",
       "      <th>mood</th>\n",
       "    </tr>\n",
       "  </thead>\n",
       "  <tbody>\n",
       "    <tr>\n",
       "      <th>29</th>\n",
       "      <td>TRBGASN128F427BF8F.h5</td>\n",
       "      <td>Jennifer Lopez</td>\n",
       "      <td>I'm Glad</td>\n",
       "      <td>Baby, when I think about...\\nThe day that we f...</td>\n",
       "      <td>[pop, rnb, jennifer lopez, dance, latin, femal...</td>\n",
       "      <td>2002</td>\n",
       "      <td>1</td>\n",
       "    </tr>\n",
       "    <tr>\n",
       "      <th>47</th>\n",
       "      <td>TRBGEUJ128F42B06B8.h5</td>\n",
       "      <td>Sandi Thom</td>\n",
       "      <td>I Wish I Was A Punk Rocker (With Flowers In My...</td>\n",
       "      <td>Oh, I wish I was a punk rocker with flowers in...</td>\n",
       "      <td>[female vocalists, pop, acoustic, indie, singe...</td>\n",
       "      <td>2006</td>\n",
       "      <td>1</td>\n",
       "    </tr>\n",
       "    <tr>\n",
       "      <th>68</th>\n",
       "      <td>TRBGNCL128F428F56F.h5</td>\n",
       "      <td>Gwen Stefani</td>\n",
       "      <td>4 In The Morning</td>\n",
       "      <td>Waking up to find another day\\nThe moon got lo...</td>\n",
       "      <td>[pop, female vocalists, gwen stefani, Love, da...</td>\n",
       "      <td>2006</td>\n",
       "      <td>0</td>\n",
       "    </tr>\n",
       "    <tr>\n",
       "      <th>81</th>\n",
       "      <td>TRBGRIP128F147FCA6.h5</td>\n",
       "      <td>Phil Collins</td>\n",
       "      <td>Everyday</td>\n",
       "      <td>I got lost, couldn't find my way\\nAnd I guess ...</td>\n",
       "      <td>[pop, Phil Collins, 80s, soft rock, easy liste...</td>\n",
       "      <td>1993</td>\n",
       "      <td>0</td>\n",
       "    </tr>\n",
       "    <tr>\n",
       "      <th>102</th>\n",
       "      <td>TRBGXQP128F4290B22.h5</td>\n",
       "      <td>Roger Sanchez</td>\n",
       "      <td>Lost</td>\n",
       "      <td>I saw a picture yesterday,\\nYou know the one, ...</td>\n",
       "      <td>[House, dance, electronic, roger sanchez, deep...</td>\n",
       "      <td>2006</td>\n",
       "      <td>1</td>\n",
       "    </tr>\n",
       "    <tr>\n",
       "      <th>118</th>\n",
       "      <td>TRBGYVK128F426A0D6.h5</td>\n",
       "      <td>Joey Negro</td>\n",
       "      <td>Make A Move On Me</td>\n",
       "      <td>Come on make a move on me\\n\\nCome on make a mo...</td>\n",
       "      <td>[House, dance, electronic, funky house, club, ...</td>\n",
       "      <td>2005</td>\n",
       "      <td>1</td>\n",
       "    </tr>\n",
       "    <tr>\n",
       "      <th>122</th>\n",
       "      <td>TRBGZKO128F92DB016.h5</td>\n",
       "      <td>Bloc Party</td>\n",
       "      <td>Zephyrus</td>\n",
       "      <td>Backwards, forwards but making no ground at al...</td>\n",
       "      <td>[indie rock, alternative, british, Bloc Party,...</td>\n",
       "      <td>2008</td>\n",
       "      <td>0</td>\n",
       "    </tr>\n",
       "    <tr>\n",
       "      <th>139</th>\n",
       "      <td>TRBHEHF128F428385A.h5</td>\n",
       "      <td>George Michael</td>\n",
       "      <td>Amazing</td>\n",
       "      <td>I was a mixed up when you came to me\\nToo brok...</td>\n",
       "      <td>[pop, dance, George Michael, 80s, easy listeni...</td>\n",
       "      <td>2004</td>\n",
       "      <td>1</td>\n",
       "    </tr>\n",
       "    <tr>\n",
       "      <th>152</th>\n",
       "      <td>TRBHHUC128F4294C6F.h5</td>\n",
       "      <td>Scott Matthews</td>\n",
       "      <td>City Headache</td>\n",
       "      <td>City headache subsides your dreary tone\\nSend ...</td>\n",
       "      <td>[folk, singer-songwriter, acoustic, indie, Mel...</td>\n",
       "      <td>2006</td>\n",
       "      <td>0</td>\n",
       "    </tr>\n",
       "    <tr>\n",
       "      <th>164</th>\n",
       "      <td>TRBHKXX128F4252D02.h5</td>\n",
       "      <td>Radiohead</td>\n",
       "      <td>Everything In Its Right Place</td>\n",
       "      <td>Kid A, Kid A\\nKid A, Kid A\\n\\nEverything\\nEver...</td>\n",
       "      <td>[alternative, electronic, radiohead, alternati...</td>\n",
       "      <td>2000</td>\n",
       "      <td>0</td>\n",
       "    </tr>\n",
       "    <tr>\n",
       "      <th>169</th>\n",
       "      <td>TRBHLBZ128F9300586.h5</td>\n",
       "      <td>Avril Lavigne</td>\n",
       "      <td>Unwanted</td>\n",
       "      <td>All...that I did was walk over\\nStart off by s...</td>\n",
       "      <td>[rock, pop, female vocalists, pop rock, avril ...</td>\n",
       "      <td>2001</td>\n",
       "      <td>0</td>\n",
       "    </tr>\n",
       "    <tr>\n",
       "      <th>171</th>\n",
       "      <td>TRBHLDQ128F423EF10.h5</td>\n",
       "      <td>The White Stripes</td>\n",
       "      <td>Blue Orchid</td>\n",
       "      <td>You got a reaction\\nYou got a reaction, didn't...</td>\n",
       "      <td>[rock, alternative, alternative rock, indie, i...</td>\n",
       "      <td>2005</td>\n",
       "      <td>0</td>\n",
       "    </tr>\n",
       "    <tr>\n",
       "      <th>193</th>\n",
       "      <td>TRBHQHN128F148A1B3.h5</td>\n",
       "      <td>Dinosaur Jr</td>\n",
       "      <td>Green Mind</td>\n",
       "      <td>I picture things a certain way.\\nThen go back ...</td>\n",
       "      <td>[Grunge, indie, where is my bong, noise, rock,...</td>\n",
       "      <td>1991</td>\n",
       "      <td>1</td>\n",
       "    </tr>\n",
       "    <tr>\n",
       "      <th>228</th>\n",
       "      <td>TRBIAVU128EF3493BA.h5</td>\n",
       "      <td>Asleep At The Wheel</td>\n",
       "      <td>The Letter That Johnny Walker Read</td>\n",
       "      <td>Johnny Walker sat at a table at the bar, mindi...</td>\n",
       "      <td>[country, western swing, Soundtrack, k-rose, G...</td>\n",
       "      <td>2002</td>\n",
       "      <td>0</td>\n",
       "    </tr>\n",
       "    <tr>\n",
       "      <th>231</th>\n",
       "      <td>TRBIBGN128F42ADC66.h5</td>\n",
       "      <td>Phantom Planet</td>\n",
       "      <td>The Meantime</td>\n",
       "      <td>Hold on,\\nHold out.\\nYour day's full.\\nOkay,\\n...</td>\n",
       "      <td>[alternative, indie, rock, indie rock, alterna...</td>\n",
       "      <td>2004</td>\n",
       "      <td>1</td>\n",
       "    </tr>\n",
       "    <tr>\n",
       "      <th>257</th>\n",
       "      <td>TRBIFGK128F92F23A2.h5</td>\n",
       "      <td>The Killers</td>\n",
       "      <td>A Dustland Fairytale</td>\n",
       "      <td>A dustland fairytale beginning\\nOr just anothe...</td>\n",
       "      <td>[indie rock, indie, rock, alternative rock, al...</td>\n",
       "      <td>2008</td>\n",
       "      <td>1</td>\n",
       "    </tr>\n",
       "  </tbody>\n",
       "</table>\n",
       "</div>"
      ],
      "text/plain": [
       "                      file               artist  \\\n",
       "29   TRBGASN128F427BF8F.h5       Jennifer Lopez   \n",
       "47   TRBGEUJ128F42B06B8.h5           Sandi Thom   \n",
       "68   TRBGNCL128F428F56F.h5         Gwen Stefani   \n",
       "81   TRBGRIP128F147FCA6.h5         Phil Collins   \n",
       "102  TRBGXQP128F4290B22.h5        Roger Sanchez   \n",
       "118  TRBGYVK128F426A0D6.h5           Joey Negro   \n",
       "122  TRBGZKO128F92DB016.h5           Bloc Party   \n",
       "139  TRBHEHF128F428385A.h5       George Michael   \n",
       "152  TRBHHUC128F4294C6F.h5       Scott Matthews   \n",
       "164  TRBHKXX128F4252D02.h5            Radiohead   \n",
       "169  TRBHLBZ128F9300586.h5        Avril Lavigne   \n",
       "171  TRBHLDQ128F423EF10.h5    The White Stripes   \n",
       "193  TRBHQHN128F148A1B3.h5          Dinosaur Jr   \n",
       "228  TRBIAVU128EF3493BA.h5  Asleep At The Wheel   \n",
       "231  TRBIBGN128F42ADC66.h5       Phantom Planet   \n",
       "257  TRBIFGK128F92F23A2.h5          The Killers   \n",
       "\n",
       "                                                 title  \\\n",
       "29                                            I'm Glad   \n",
       "47   I Wish I Was A Punk Rocker (With Flowers In My...   \n",
       "68                                    4 In The Morning   \n",
       "81                                            Everyday   \n",
       "102                                               Lost   \n",
       "118                                  Make A Move On Me   \n",
       "122                                           Zephyrus   \n",
       "139                                            Amazing   \n",
       "152                                      City Headache   \n",
       "164                      Everything In Its Right Place   \n",
       "169                                           Unwanted   \n",
       "171                                        Blue Orchid   \n",
       "193                                         Green Mind   \n",
       "228                 The Letter That Johnny Walker Read   \n",
       "231                                       The Meantime   \n",
       "257                               A Dustland Fairytale   \n",
       "\n",
       "                                                lyrics  \\\n",
       "29   Baby, when I think about...\\nThe day that we f...   \n",
       "47   Oh, I wish I was a punk rocker with flowers in...   \n",
       "68   Waking up to find another day\\nThe moon got lo...   \n",
       "81   I got lost, couldn't find my way\\nAnd I guess ...   \n",
       "102  I saw a picture yesterday,\\nYou know the one, ...   \n",
       "118  Come on make a move on me\\n\\nCome on make a mo...   \n",
       "122  Backwards, forwards but making no ground at al...   \n",
       "139  I was a mixed up when you came to me\\nToo brok...   \n",
       "152  City headache subsides your dreary tone\\nSend ...   \n",
       "164  Kid A, Kid A\\nKid A, Kid A\\n\\nEverything\\nEver...   \n",
       "169  All...that I did was walk over\\nStart off by s...   \n",
       "171  You got a reaction\\nYou got a reaction, didn't...   \n",
       "193  I picture things a certain way.\\nThen go back ...   \n",
       "228  Johnny Walker sat at a table at the bar, mindi...   \n",
       "231  Hold on,\\nHold out.\\nYour day's full.\\nOkay,\\n...   \n",
       "257  A dustland fairytale beginning\\nOr just anothe...   \n",
       "\n",
       "                                                  tags  year mood  \n",
       "29   [pop, rnb, jennifer lopez, dance, latin, femal...  2002    1  \n",
       "47   [female vocalists, pop, acoustic, indie, singe...  2006    1  \n",
       "68   [pop, female vocalists, gwen stefani, Love, da...  2006    0  \n",
       "81   [pop, Phil Collins, 80s, soft rock, easy liste...  1993    0  \n",
       "102  [House, dance, electronic, roger sanchez, deep...  2006    1  \n",
       "118  [House, dance, electronic, funky house, club, ...  2005    1  \n",
       "122  [indie rock, alternative, british, Bloc Party,...  2008    0  \n",
       "139  [pop, dance, George Michael, 80s, easy listeni...  2004    1  \n",
       "152  [folk, singer-songwriter, acoustic, indie, Mel...  2006    0  \n",
       "164  [alternative, electronic, radiohead, alternati...  2000    0  \n",
       "169  [rock, pop, female vocalists, pop rock, avril ...  2001    0  \n",
       "171  [rock, alternative, alternative rock, indie, i...  2005    0  \n",
       "193  [Grunge, indie, where is my bong, noise, rock,...  1991    1  \n",
       "228  [country, western swing, Soundtrack, k-rose, G...  2002    0  \n",
       "231  [alternative, indie, rock, indie rock, alterna...  2004    1  \n",
       "257  [indie rock, indie, rock, alternative rock, al...  2008    1  "
      ]
     },
     "execution_count": 35,
     "metadata": {},
     "output_type": "execute_result"
    }
   ],
   "source": [
    "df"
   ]
  },
  {
   "cell_type": "code",
   "execution_count": 36,
   "metadata": {},
   "outputs": [],
   "source": [
    "df.to_csv('lyrics_166.csv', index=False,encoding='utf-8')"
   ]
  },
  {
   "cell_type": "code",
   "execution_count": 37,
   "metadata": {},
   "outputs": [],
   "source": [
    "df = df.drop(\"tags\",axis=1)"
   ]
  },
  {
   "cell_type": "code",
   "execution_count": 38,
   "metadata": {},
   "outputs": [
    {
     "data": {
      "text/plain": [
       "0.04819277108433735"
      ]
     },
     "execution_count": 38,
     "metadata": {},
     "output_type": "execute_result"
    }
   ],
   "source": [
    "len(df[df.mood==1])/166\n"
   ]
  },
  {
   "cell_type": "code",
   "execution_count": 39,
   "metadata": {},
   "outputs": [],
   "source": [
    "# save songs with mood tag into csv file for training and keywords extraction\n",
    "df.to_csv('lyrics_166.csv', index=False,encoding='utf-8')"
   ]
  },
  {
   "cell_type": "code",
   "execution_count": null,
   "metadata": {
    "collapsed": true
   },
   "outputs": [],
   "source": []
  }
 ],
 "metadata": {
  "anaconda-cloud": {},
  "kernelspec": {
   "display_name": "Python 3",
   "language": "python",
   "name": "python3"
  },
  "language_info": {
   "codemirror_mode": {
    "name": "ipython",
    "version": 3
   },
   "file_extension": ".py",
   "mimetype": "text/x-python",
   "name": "python",
   "nbconvert_exporter": "python",
   "pygments_lexer": "ipython3",
   "version": "3.6.4"
  }
 },
 "nbformat": 4,
 "nbformat_minor": 2
}
